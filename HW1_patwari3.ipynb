{
  "nbformat": 4,
  "nbformat_minor": 0,
  "metadata": {
    "colab": {
      "name": "HW1_patwari3.ipynb",
      "version": "0.3.2",
      "provenance": [],
      "collapsed_sections": [],
      "include_colab_link": true
    },
    "kernelspec": {
      "name": "python3",
      "display_name": "Python 3"
    }
  },
  "cells": [
    {
      "cell_type": "markdown",
      "metadata": {
        "id": "view-in-github",
        "colab_type": "text"
      },
      "source": [
        "<a href=\"https://colab.research.google.com/github/pratpat/psl_hw/blob/master/HW1_patwari3.ipynb\" target=\"_parent\"><img src=\"https://colab.research.google.com/assets/colab-badge.svg\" alt=\"Open In Colab\"/></a>"
      ]
    },
    {
      "cell_type": "markdown",
      "metadata": {
        "id": "zV5fziTm3tH_",
        "colab_type": "text"
      },
      "source": [
        "**STAT 542 / CS 598: Homework 1**\n",
        "\n",
        "Fall 2019 : Pratik Patwari (patwari3)"
      ]
    },
    {
      "cell_type": "code",
      "metadata": {
        "id": "dM7wM3rQ3b-n",
        "colab_type": "code",
        "colab": {}
      },
      "source": [
        "import numpy as np\n",
        "import pandas as pd\n",
        "import math\n",
        "import matplotlib.pyplot as plt\n",
        "from sklearn.linear_model import LinearRegression\n",
        "from sklearn.model_selection import train_test_split\n",
        "from sklearn import linear_model\n",
        "from sklearn import preprocessing\n",
        "from sklearn.linear_model import LinearRegression\n",
        "from sklearn.model_selection import train_test_split\n",
        "from sklearn import metrics\n",
        "import pylab\n",
        "import numpy as np"
      ],
      "execution_count": 0,
      "outputs": []
    },
    {
      "cell_type": "markdown",
      "metadata": {
        "id": "gLXn_tPU3g39",
        "colab_type": "text"
      },
      "source": [
        "**Question 1 [50 Points] KNN**\n",
        "\n",
        "a. [15 Points] Write a function myknn(xtest, xtrain, ytrain, k) that fits a KNN model that predict a target point or multiple target points xtest. Here xtrain is the training dataset covariate value, ytrain is the training data outcome, and k is the number of nearest neighbors. Use the `2 norm to evaluate the distance between two points. Please note that you cannot use any additional R package within this function."
      ]
    },
    {
      "cell_type": "code",
      "metadata": {
        "id": "BZrz-rj04I_W",
        "colab_type": "code",
        "colab": {}
      },
      "source": [
        "# To get the distance between test and train data sets\n",
        "def get_dist(x_train,y_train,x_test,k):\n",
        "    distance=[]\n",
        "    for i in range(len(x_train)):\n",
        "        get_distance = np.linalg.norm(x_train[i]-x_test)\n",
        "        distance.append((get_distance,y_train[i]))\n",
        "    distance=sorted(distance, key=lambda x: x[0])[0:k]\n",
        "    return np.array(distance)\n",
        "\n",
        "#Find k nearest neighbours  \n",
        "def myknn(x_train,y_train,x_test,k):\n",
        "    responses=[]\n",
        "    for i in range(len(x_test)):\n",
        "        n = get_dist(x_train,y_train,x_test[i],k)\n",
        "        r = np.mean(n[:,1])\n",
        "        responses.append(r)\n",
        "    return responses\n"
      ],
      "execution_count": 0,
      "outputs": []
    },
    {
      "cell_type": "markdown",
      "metadata": {
        "id": "JsongHpi4jAT",
        "colab_type": "text"
      },
      "source": [
        "b [10 Points]: Generate 1000 observations from a five-dimensional normally distribution:\n",
        "                  N (µ, Σ5×5)\n",
        "where µ = (1, 2, 3, 4, 5)T and Σ5×5 is an autoregressive covariance matrix, with the (i, j)th entry equal to 0.5 |i−j| . Then, generate outcome values Y based on the linear model\n",
        "          Y = X1 + X2 + (X3 − 2.5)2 + e\n",
        "where e follows i.i.d. standard normal distribution. Use set.seed(1) right before you generate this entire data. Print the first 3 entries of your data.\n"
      ]
    },
    {
      "cell_type": "code",
      "metadata": {
        "id": "Mc4cDr7Y4zE8",
        "colab_type": "code",
        "outputId": "51422148-ef9b-4cb0-da95-637254974277",
        "colab": {
          "base_uri": "https://localhost:8080/",
          "height": 153
        }
      },
      "source": [
        "#1000 observations\n",
        "cov_mat = np.zeros((5,5)) # five-dimensional normally distribution\n",
        "for x in range(5):\n",
        "  for y in range(5):\n",
        "    cov_mat[x,y] = pow(0.5,x-y)\n",
        "mean = [1,2,3,4,5]\n",
        "obs = np.random.multivariate_normal(mean, cov_mat, 1000)\n",
        "np.random.seed(1)\n",
        "e = np.random.randn(1000)\n",
        "l_y = lambda x : x[0] + x[1] + pow((x[2]-2.5),2)\n",
        "l_p = np.add(np.apply_along_axis(l_y,1,obs),e)\n",
        "\n",
        "print(\"1st three values for Data: \")\n",
        "print(obs[:3])\n",
        "print(\"First three values for Y :\")\n",
        "print(l_p[:3])"
      ],
      "execution_count": 14,
      "outputs": [
        {
          "output_type": "stream",
          "text": [
            "1st three values for Data: \n",
            "[[1.03830904 2.07661808 3.15323616 4.30647232 5.61294465]\n",
            " [1.21785552 2.43571103 3.87142207 5.74284413 8.48568826]\n",
            " [0.8380188  1.67603759 2.35207519 2.70415038 2.40830075]]\n",
            "First three values for Y :\n",
            "[5.16598997 4.92260862 2.00776639]\n"
          ],
          "name": "stdout"
        },
        {
          "output_type": "stream",
          "text": [
            "/usr/local/lib/python3.6/dist-packages/ipykernel_launcher.py:6: RuntimeWarning: covariance is not symmetric positive-semidefinite.\n",
            "  \n"
          ],
          "name": "stderr"
        }
      ]
    },
    {
      "cell_type": "markdown",
      "metadata": {
        "id": "K3Y-53-E5kk6",
        "colab_type": "text"
      },
      "source": [
        "c. [10 Points] Use the first 400 observations of your data as the training data and the rest as testing data. Predict the Y values using your KNN function with k = 5. Evaluate the prediction accuracy using mean squared error"
      ]
    },
    {
      "cell_type": "code",
      "metadata": {
        "id": "GNB__zRB5oVs",
        "colab_type": "code",
        "outputId": "31f60148-88e0-473c-c124-fc6e413cfdec",
        "colab": {
          "base_uri": "https://localhost:8080/",
          "height": 51
        }
      },
      "source": [
        "# k = 5\n",
        "x_train = obs[:400]\n",
        "y_train = l_p[:400]\n",
        "x_test = obs[400:]\n",
        "y_test = l_p[400:]\n",
        "\n",
        "predict = myknn(x_train,y_train,x_test,5)\n",
        "mse = metrics.mean_squared_error(y_test,predict)\n",
        "print(\"myknn mse:\")\n",
        "print (mse)\n"
      ],
      "execution_count": 15,
      "outputs": [
        {
          "output_type": "stream",
          "text": [
            "myknn mse:\n",
            "1.3758926196022938\n"
          ],
          "name": "stdout"
        }
      ]
    },
    {
      "cell_type": "markdown",
      "metadata": {
        "id": "fbpDkfrQ58Ce",
        "colab_type": "text"
      },
      "source": [
        "d. [15 Points] Compare the prediction error of a linear model with your KNN model. Consider k being 1, 2, 3, . . ., 9, 10, 15, 20, . . ., 95, 100. Demonstrate all results in a single, easily interpretable figure with proper legends."
      ]
    },
    {
      "cell_type": "code",
      "metadata": {
        "id": "rSjGiROo6RFo",
        "colab_type": "code",
        "outputId": "7ec77db0-63f1-4a41-a306-a6400d1b19a2",
        "colab": {
          "base_uri": "https://localhost:8080/",
          "height": 610
        }
      },
      "source": [
        "#RMSE\n",
        "rmse = []\n",
        "k = []\n",
        "arr = [0,100]\n",
        "for kx in range(1,11):\n",
        "  pred = myknn(x_train,y_train,x_test,kx)\n",
        "  rmse.append(metrics.mean_squared_error(y_test,pred))\n",
        "  k.append(kx)\n",
        "\n",
        "for kx in range(15,101,5):\n",
        "  pred = myknn(x_train,y_train,x_test,kx)\n",
        "  rmse.append(metrics.mean_squared_error(y_test,pred))\n",
        "  k.append(kx)\n",
        "  \n",
        "#MSE for Lenear Model to compare the results\n",
        "lm = linear_model.LinearRegression()\n",
        "lm.fit(x_train,y_train)\n",
        "l_p = lm.predict(x_test)\n",
        "lr_rmse  = metrics.mean_squared_error(y_test,l_p)\n",
        "print(\"Linear MSE:\")\n",
        "print ( lr_rmse)\n",
        "\n",
        "# Plot KNN MSE and Linear MSE\n",
        "\n",
        "plt.xlabel('K',fontsize=14)\n",
        "plt.ylabel('mse',fontsize=14)\n",
        "k_rmse = plt.plot(k,rmse)\n",
        "l_rmse = plt.plot(arr,[lr_rmse,lr_rmse],linestyle='solid',)\n",
        "plt.scatter(k,rmse, label=\"KNN mse\")\n",
        "plt.scatter(0,lr_rmse,color='black',label=\"Linear rmse\")\n",
        "\n",
        "plt.legend()\n",
        "plt.show()\n",
        "\n",
        "print(\"Above is the plot for MSE for linear model in Orange and MSE for K from 1-100 in Blue:\")"
      ],
      "execution_count": 16,
      "outputs": [
        {
          "output_type": "stream",
          "text": [
            "Linear MSE:\n",
            "2.897576496454032\n"
          ],
          "name": "stdout"
        },
        {
          "output_type": "display_data",
          "data": {
            "image/png": "[encoded data removed]",
            "text/plain": [
              "<Figure size 1080x648 with 1 Axes>"
            ]
          },
          "metadata": {
            "tags": []
          }
        },
        {
          "output_type": "stream",
          "text": [
            "Above is the plot for MSE for linear model in Orange and MSE for K from 1-100 in Blue:\n"
          ],
          "name": "stdout"
        }
      ]
    },
    {
      "cell_type": "markdown",
      "metadata": {
        "id": "fvS2Rq4CLKEJ",
        "colab_type": "text"
      },
      "source": [
        "**Question 2 [50 Points] Linear Regression through Optimization**\n"
      ]
    },
    {
      "cell_type": "markdown",
      "metadata": {
        "id": "U0mUXZLVLREY",
        "colab_type": "text"
      },
      "source": [
        "a. [35 Points] Based on this description, write your own R function mylm_g(x, y, delta, epsilon,\n",
        "maxitr) to implement this optimization version of linear regression. The output of this function\n",
        "should be a vector of the estimated beta value."
      ]
    },
    {
      "cell_type": "code",
      "metadata": {
        "id": "zqZoi_-pLVJk",
        "colab_type": "code",
        "colab": {}
      },
      "source": [
        "def mylm_g(x, y, delta, epsilon, maxitr):\n",
        "  beta_curr = np.zeros(x.shape[1])\n",
        "  n = len(y)\n",
        "  for r in range(maxitr):\n",
        "    beta_old = beta_curr\n",
        "    beta_del = -(1/n)*((y - np.transpose(np.sum(beta_curr*x,1))).dot(x))\n",
        "    beta_curr = beta_old - (beta_del*delta)\n",
        "    if(np.amax(beta_curr-beta_old)<epsilon):\n",
        "      break\n",
        "  return beta_curr"
      ],
      "execution_count": 0,
      "outputs": []
    },
    {
      "cell_type": "markdown",
      "metadata": {
        "id": "sOZq2dTcULxP",
        "colab_type": "text"
      },
      "source": [
        "b. [15 Points] Test this function on the Boston Housing data from the mlbench package. Documentation is provided here if you need a description of the data. We will remove medv, town and tract from\n",
        "the data and use cmedv as the outcome. We will use a scaled and centered version of the data for estimation. Please also note that in this case, you do not need the intercept term. And you should\n",
        "compare your result to the lm() function on the same data. Experiment on different maxitr values to obtain a good solution. However your function should not run more than a few seconds."
      ]
    },
    {
      "cell_type": "code",
      "metadata": {
        "id": "59J9ypekLfe5",
        "colab_type": "code",
        "outputId": "c1d8bb28-42ed-42a1-c090-6dc2a98127fa",
        "colab": {
          "base_uri": "https://localhost:8080/",
          "height": 650
        }
      },
      "source": [
        "#Load boston data\n",
        "df_boston = pd.read_csv('https://maya-jha.github.io/data/BostonData.csv')\n",
        "\n",
        "#drop columns for x and y as mentioned \n",
        "x = np.array(df_boston.drop(['Unnamed: 0','town','medv','tract','cmedv'], axis = 1))\n",
        "y = np.array(df_boston['cmedv'])\n",
        "\n",
        "#scale data\n",
        "x_scaled = preprocessing.scale(x)\n",
        "y_scaled = preprocessing.scale(y)\n",
        "\n",
        "#call mylm_g to get the LR\n",
        "result = mylm_g(x_scaled,y_scaled,0.1,0.00000001,1900)\n",
        "\n",
        "#call sklearn regression\n",
        "reg = LinearRegression().fit(x_scaled, y_scaled)\n",
        "\n",
        "#Print values\n",
        "print(\"sklearn weights : \")\n",
        "print(reg.coef_)\n",
        "print(\"mylm_g weights :\")\n",
        "print(result)\n",
        "\n",
        "#Compare in dataframe\n",
        "df_res = pd.DataFrame()\n",
        "df_res['Using mylm_g'] = result\n",
        "df_res['sklearn'] = reg.coef_\n",
        "df_res"
      ],
      "execution_count": 18,
      "outputs": [
        {
          "output_type": "stream",
          "text": [
            "sklearn weights : \n",
            "[-0.03231644  0.03024509 -0.09793597  0.1182731   0.01139038  0.07131225\n",
            " -0.19970377  0.28723281  0.00756485 -0.32103934  0.29085076 -0.23652616\n",
            " -0.20680497  0.09123541 -0.41797282]\n",
            "mylm_g weights :\n",
            "[-0.03231649  0.03024504 -0.09793585  0.11827289  0.01138974  0.07131233\n",
            " -0.19970364  0.28723291  0.00756478 -0.32103937  0.29084918 -0.2365244\n",
            " -0.20680489  0.0912354  -0.41797276]\n"
          ],
          "name": "stdout"
        },
        {
          "output_type": "execute_result",
          "data": {
            "text/html": [
              "<div>\n",
              "<style scoped>\n",
              "    .dataframe tbody tr th:only-of-type {\n",
              "        vertical-align: middle;\n",
              "    }\n",
              "\n",
              "    .dataframe tbody tr th {\n",
              "        vertical-align: top;\n",
              "    }\n",
              "\n",
              "    .dataframe thead th {\n",
              "        text-align: right;\n",
              "    }\n",
              "</style>\n",
              "<table border=\"1\" class=\"dataframe\">\n",
              "  <thead>\n",
              "    <tr style=\"text-align: right;\">\n",
              "      <th></th>\n",
              "      <th>Using mylm_g</th>\n",
              "      <th>sklearn</th>\n",
              "    </tr>\n",
              "  </thead>\n",
              "  <tbody>\n",
              "    <tr>\n",
              "      <th>0</th>\n",
              "      <td>-0.032316</td>\n",
              "      <td>-0.032316</td>\n",
              "    </tr>\n",
              "    <tr>\n",
              "      <th>1</th>\n",
              "      <td>0.030245</td>\n",
              "      <td>0.030245</td>\n",
              "    </tr>\n",
              "    <tr>\n",
              "      <th>2</th>\n",
              "      <td>-0.097936</td>\n",
              "      <td>-0.097936</td>\n",
              "    </tr>\n",
              "    <tr>\n",
              "      <th>3</th>\n",
              "      <td>0.118273</td>\n",
              "      <td>0.118273</td>\n",
              "    </tr>\n",
              "    <tr>\n",
              "      <th>4</th>\n",
              "      <td>0.011390</td>\n",
              "      <td>0.011390</td>\n",
              "    </tr>\n",
              "    <tr>\n",
              "      <th>5</th>\n",
              "      <td>0.071312</td>\n",
              "      <td>0.071312</td>\n",
              "    </tr>\n",
              "    <tr>\n",
              "      <th>6</th>\n",
              "      <td>-0.199704</td>\n",
              "      <td>-0.199704</td>\n",
              "    </tr>\n",
              "    <tr>\n",
              "      <th>7</th>\n",
              "      <td>0.287233</td>\n",
              "      <td>0.287233</td>\n",
              "    </tr>\n",
              "    <tr>\n",
              "      <th>8</th>\n",
              "      <td>0.007565</td>\n",
              "      <td>0.007565</td>\n",
              "    </tr>\n",
              "    <tr>\n",
              "      <th>9</th>\n",
              "      <td>-0.321039</td>\n",
              "      <td>-0.321039</td>\n",
              "    </tr>\n",
              "    <tr>\n",
              "      <th>10</th>\n",
              "      <td>0.290849</td>\n",
              "      <td>0.290851</td>\n",
              "    </tr>\n",
              "    <tr>\n",
              "      <th>11</th>\n",
              "      <td>-0.236524</td>\n",
              "      <td>-0.236526</td>\n",
              "    </tr>\n",
              "    <tr>\n",
              "      <th>12</th>\n",
              "      <td>-0.206805</td>\n",
              "      <td>-0.206805</td>\n",
              "    </tr>\n",
              "    <tr>\n",
              "      <th>13</th>\n",
              "      <td>0.091235</td>\n",
              "      <td>0.091235</td>\n",
              "    </tr>\n",
              "    <tr>\n",
              "      <th>14</th>\n",
              "      <td>-0.417973</td>\n",
              "      <td>-0.417973</td>\n",
              "    </tr>\n",
              "  </tbody>\n",
              "</table>\n",
              "</div>"
            ],
            "text/plain": [
              "    Using mylm_g   sklearn\n",
              "0      -0.032316 -0.032316\n",
              "1       0.030245  0.030245\n",
              "2      -0.097936 -0.097936\n",
              "3       0.118273  0.118273\n",
              "4       0.011390  0.011390\n",
              "5       0.071312  0.071312\n",
              "6      -0.199704 -0.199704\n",
              "7       0.287233  0.287233\n",
              "8       0.007565  0.007565\n",
              "9      -0.321039 -0.321039\n",
              "10      0.290849  0.290851\n",
              "11     -0.236524 -0.236526\n",
              "12     -0.206805 -0.206805\n",
              "13      0.091235  0.091235\n",
              "14     -0.417973 -0.417973"
            ]
          },
          "metadata": {
            "tags": []
          },
          "execution_count": 18
        }
      ]
    }
  ]
}