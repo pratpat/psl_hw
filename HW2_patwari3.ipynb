{
  "nbformat": 4,
  "nbformat_minor": 0,
  "metadata": {
    "colab": {
      "name": "HW2_patwari3.ipynb",
      "version": "0.3.2",
      "provenance": [],
      "collapsed_sections": [],
      "include_colab_link": true
    },
    "kernelspec": {
      "name": "python3",
      "display_name": "Python 3"
    }
  },
  "cells": [
    {
      "cell_type": "markdown",
      "metadata": {
        "id": "view-in-github",
        "colab_type": "text"
      },
      "source": [
        "<a href=\"https://colab.research.google.com/github/pratpat/psl_hw/blob/master/HW2_patwari3.ipynb\" target=\"_parent\"><img src=\"https://colab.research.google.com/assets/colab-badge.svg\" alt=\"Open In Colab\"/></a>"
      ]
    },
    {
      "cell_type": "code",
      "metadata": {
        "id": "Xs62W9TycQI-",
        "colab_type": "code",
        "colab": {}
      },
      "source": [
        "%matplotlib inline\n",
        "import pandas as pd\n",
        "import numpy as np\n",
        "import itertools\n",
        "import time\n",
        "import statsmodels.api as sm\n",
        "import matplotlib.pyplot as plt"
      ],
      "execution_count": 0,
      "outputs": []
    },
    {
      "cell_type": "code",
      "metadata": {
        "id": "OGjfmhu4cJ0d",
        "colab_type": "code",
        "colab": {}
      },
      "source": [
        "#Load boston data\n",
        "df_boston = pd.read_csv('https://maya-jha.github.io/data/BostonData.csv')\n",
        "\n",
        "#drop columns for x and y as mentioned \n",
        "#x = np.array(df_boston.drop(['Unnamed: 0','town','medv','tract'], axis = 1))\n",
        "X = df_boston.drop(['Unnamed: 0','town','medv','tract'], axis = 1)\n",
        "Y = df_boston['cmedv']\n",
        "\n",
        "\n"
      ],
      "execution_count": 0,
      "outputs": []
    },
    {
      "cell_type": "code",
      "metadata": {
        "id": "GZJzvp8aqmkJ",
        "colab_type": "code",
        "colab": {}
      },
      "source": [
        "def processSubset(feature_set):\n",
        "    # Fit model on feature_set and calculate RSS\n",
        "    model = sm.OLS(Y,X[list(feature_set)])\n",
        "    regr = model.fit()\n",
        "    RSS = ((regr.predict(X[list(feature_set)]) - Y) ** 2).sum()\n",
        "    return {\"model\":regr, \"RSS\":RSS}"
      ],
      "execution_count": 0,
      "outputs": []
    },
    {
      "cell_type": "code",
      "metadata": {
        "id": "BYDacKgxmJTL",
        "colab_type": "code",
        "colab": {}
      },
      "source": [
        "def getBest(k):\n",
        "    \n",
        "    tic = time.time()\n",
        "    \n",
        "    results = []\n",
        "    \n",
        "    for combo in itertools.combinations(X.columns, k):\n",
        "        results.append(processSubset(combo))\n",
        "    \n",
        "    # Wrap everything up in a nice dataframe\n",
        "    models = pd.DataFrame(results)\n",
        "    \n",
        "    # Choose the model with the highest RSS\n",
        "    best_model = models.loc[models['RSS'].argmin()]\n",
        "    \n",
        "    toc = time.time()\n",
        "    print(\"Processed\", models.shape[0], \"models on\", k, \"predictors in\", (toc-tic), \"seconds.\")\n",
        "    # Return the best model, along with some other useful information about the model\n",
        "    return best_model"
      ],
      "execution_count": 0,
      "outputs": []
    },
    {
      "cell_type": "code",
      "metadata": {
        "id": "IjRQKG6ZcO0e",
        "colab_type": "code",
        "outputId": "86919831-a1b7-4974-be20-be6512e75ae6",
        "colab": {
          "base_uri": "https://localhost:8080/",
          "height": 408
        }
      },
      "source": [
        "# Could take quite awhile to complete...\n",
        "\n",
        "models_best = pd.DataFrame(columns=[\"RSS\", \"model\"])\n",
        "tic = time.time()\n",
        "for i in range(1,15):\n",
        "    models_best.loc[i] = getBest(i)\n",
        "toc = time.time()\n",
        "print(\"Total elapsed time:\", (toc-tic), \"seconds.\")"
      ],
      "execution_count": 23,
      "outputs": [
        {
          "output_type": "stream",
          "text": [
            "/usr/local/lib/python3.6/dist-packages/ipykernel_launcher.py:14: FutureWarning: \n",
            "The current behaviour of 'Series.argmin' is deprecated, use 'idxmin'\n",
            "instead.\n",
            "The behavior of 'argmin' will be corrected to return the positional\n",
            "minimum in the future. For now, use 'series.values.argmin' or\n",
            "'np.argmin(np.array(values))' to get the position of the minimum\n",
            "row.\n",
            "  \n"
          ],
          "name": "stderr"
        },
        {
          "output_type": "stream",
          "text": [
            "Processed 16 models on 1 predictors in 0.05647134780883789 seconds.\n",
            "Processed 120 models on 2 predictors in 0.37845826148986816 seconds.\n",
            "Processed 560 models on 3 predictors in 1.774949550628662 seconds.\n",
            "Processed 1820 models on 4 predictors in 6.095128536224365 seconds.\n",
            "Processed 4368 models on 5 predictors in 14.42930293083191 seconds.\n",
            "Processed 8008 models on 6 predictors in 27.50207543373108 seconds.\n",
            "Processed 11440 models on 7 predictors in 40.21273446083069 seconds.\n",
            "Processed 12870 models on 8 predictors in 45.65181589126587 seconds.\n",
            "Processed 11440 models on 9 predictors in 41.31657791137695 seconds.\n",
            "Processed 8008 models on 10 predictors in 29.587748289108276 seconds.\n",
            "Processed 4368 models on 11 predictors in 16.334585905075073 seconds.\n",
            "Processed 1820 models on 12 predictors in 6.9027745723724365 seconds.\n",
            "Processed 560 models on 13 predictors in 2.117331027984619 seconds.\n",
            "Processed 120 models on 14 predictors in 0.4823014736175537 seconds.\n",
            "Total elapsed time: 234.68003487586975 seconds.\n"
          ],
          "name": "stdout"
        }
      ]
    },
    {
      "cell_type": "code",
      "metadata": {
        "id": "-jY_vLVHpl94",
        "colab_type": "code",
        "outputId": "7e422772-5b29-49e4-b33d-736dab4f52d4",
        "colab": {
          "base_uri": "https://localhost:8080/",
          "height": 459
        }
      },
      "source": [
        "print(models_best.loc[2, \"model\"].summary())\n",
        "models_best.loc[2, \"model\"].rsquared\n"
      ],
      "execution_count": 24,
      "outputs": [
        {
          "output_type": "stream",
          "text": [
            "                                 OLS Regression Results                                \n",
            "=======================================================================================\n",
            "Dep. Variable:                  cmedv   R-squared (uncentered):                   1.000\n",
            "Model:                            OLS   Adj. R-squared (uncentered):              1.000\n",
            "Method:                 Least Squares   F-statistic:                          2.154e+35\n",
            "Date:                Tue, 17 Sep 2019   Prob (F-statistic):                        0.00\n",
            "Time:                        01:44:52   Log-Likelihood:                          16852.\n",
            "No. Observations:                 506   AIC:                                 -3.370e+04\n",
            "Df Residuals:                     504   BIC:                                 -3.369e+04\n",
            "Df Model:                           2                                                  \n",
            "Covariance Type:            nonrobust                                                  \n",
            "==============================================================================\n",
            "                 coef    std err          t      P>|t|      [0.025      0.975]\n",
            "------------------------------------------------------------------------------\n",
            "cmedv          1.0000   3.46e-18   2.89e+17      0.000       1.000       1.000\n",
            "ptratio     -7.98e-17   4.53e-18    -17.631      0.000   -8.87e-17   -7.09e-17\n",
            "==============================================================================\n",
            "Omnibus:                       96.716   Durbin-Watson:                   0.486\n",
            "Prob(Omnibus):                  0.000   Jarque-Bera (JB):              155.680\n",
            "Skew:                           1.356   Prob(JB):                     1.57e-34\n",
            "Kurtosis:                       2.840   Cond. No.                         4.48\n",
            "==============================================================================\n",
            "\n",
            "Warnings:\n",
            "[1] Standard Errors assume that the covariance matrix of the errors is correctly specified.\n"
          ],
          "name": "stdout"
        },
        {
          "output_type": "execute_result",
          "data": {
            "text/plain": [
              "1.0"
            ]
          },
          "metadata": {
            "tags": []
          },
          "execution_count": 24
        }
      ]
    },
    {
      "cell_type": "code",
      "metadata": {
        "id": "_KhLVrLvsX4j",
        "colab_type": "code",
        "colab": {}
      },
      "source": [
        "def forward(predictors):\n",
        "\n",
        "    # Pull out predictors we still need to process\n",
        "    remaining_predictors = [p for p in X.columns if p not in predictors]\n",
        "    \n",
        "    tic = time.time()\n",
        "    \n",
        "    results = []\n",
        "    \n",
        "    for p in remaining_predictors:\n",
        "        results.append(processSubset(predictors+[p]))\n",
        "    \n",
        "    # Wrap everything up in a nice dataframe\n",
        "    models = pd.DataFrame(results)\n",
        "    \n",
        "    # Choose the model with the highest RSS\n",
        "    best_model = models.loc[models['RSS'].argmin()]\n",
        "    \n",
        "    toc = time.time()\n",
        "    print(\"Processed \", models.shape[0], \"models on\", len(predictors)+1, \"predictors in\", (toc-tic), \"seconds.\")\n",
        "    \n",
        "    # Return the best model, along with some other useful information about the model\n",
        "    return best_model"
      ],
      "execution_count": 0,
      "outputs": []
    },
    {
      "cell_type": "code",
      "metadata": {
        "id": "4XzGi5npsD3m",
        "colab_type": "code",
        "outputId": "114ceef8-b1a5-4256-97ae-041a012246ce",
        "colab": {
          "base_uri": "https://localhost:8080/",
          "height": 425
        }
      },
      "source": [
        "#Load boston data\n",
        "df_boston = pd.read_csv('https://maya-jha.github.io/data/BostonData.csv')\n",
        "\n",
        "#drop columns for x and y as mentioned \n",
        "#x = np.array(df_boston.drop(['Unnamed: 0','town','medv','tract'], axis = 1))\n",
        "X = df_boston.drop(['Unnamed: 0','town','medv','tract'], axis = 1)\n",
        "Y = df_boston['cmedv']\n",
        "\n",
        "models_fwd = pd.DataFrame(columns=[\"RSS\", \"model\"])\n",
        "\n",
        "tic = time.time()\n",
        "predictors = []\n",
        "\n",
        "for i in range(1,len(X.columns)+1):    \n",
        "    models_fwd.loc[i] = forward(predictors)\n",
        "    predictors = models_fwd.loc[i][\"model\"].model.exog_names\n",
        "\n",
        "toc = time.time()\n",
        "print(\"Total elapsed time:\", (toc-tic), \"seconds.\")"
      ],
      "execution_count": 26,
      "outputs": [
        {
          "output_type": "stream",
          "text": [
            "/usr/local/lib/python3.6/dist-packages/ipykernel_launcher.py:17: FutureWarning: \n",
            "The current behaviour of 'Series.argmin' is deprecated, use 'idxmin'\n",
            "instead.\n",
            "The behavior of 'argmin' will be corrected to return the positional\n",
            "minimum in the future. For now, use 'series.values.argmin' or\n",
            "'np.argmin(np.array(values))' to get the position of the minimum\n",
            "row.\n"
          ],
          "name": "stderr"
        },
        {
          "output_type": "stream",
          "text": [
            "Processed  16 models on 1 predictors in 0.047209739685058594 seconds.\n",
            "Processed  15 models on 2 predictors in 0.047189950942993164 seconds.\n",
            "Processed  14 models on 3 predictors in 0.042414188385009766 seconds.\n",
            "Processed  13 models on 4 predictors in 0.04049563407897949 seconds.\n",
            "Processed  12 models on 5 predictors in 0.039809465408325195 seconds.\n",
            "Processed  11 models on 6 predictors in 0.04257059097290039 seconds.\n",
            "Processed  10 models on 7 predictors in 0.03715348243713379 seconds.\n",
            "Processed  9 models on 8 predictors in 0.03136134147644043 seconds.\n",
            "Processed  8 models on 9 predictors in 0.029867172241210938 seconds.\n",
            "Processed  7 models on 10 predictors in 0.028743505477905273 seconds.\n",
            "Processed  6 models on 11 predictors in 0.023900747299194336 seconds.\n",
            "Processed  5 models on 12 predictors in 0.020357847213745117 seconds.\n",
            "Processed  4 models on 13 predictors in 0.023390769958496094 seconds.\n",
            "Processed  3 models on 14 predictors in 0.012803792953491211 seconds.\n",
            "Processed  2 models on 15 predictors in 0.008940458297729492 seconds.\n",
            "Processed  1 models on 16 predictors in 0.005665779113769531 seconds.\n",
            "Total elapsed time: 0.5337886810302734 seconds.\n"
          ],
          "name": "stdout"
        }
      ]
    },
    {
      "cell_type": "code",
      "metadata": {
        "id": "JJfp18Qzsd4W",
        "colab_type": "code",
        "outputId": "12ae34d1-256d-4f50-ccf8-ace5c5da45cb",
        "colab": {
          "base_uri": "https://localhost:8080/",
          "height": 986
        }
      },
      "source": [
        "print(models_fwd.loc[1, \"model\"].summary())\n",
        "print(models_fwd.loc[2, \"model\"].summary())"
      ],
      "execution_count": 27,
      "outputs": [
        {
          "output_type": "stream",
          "text": [
            "                                 OLS Regression Results                                \n",
            "=======================================================================================\n",
            "Dep. Variable:                  cmedv   R-squared (uncentered):                   1.000\n",
            "Model:                            OLS   Adj. R-squared (uncentered):              1.000\n",
            "Method:                 Least Squares   F-statistic:                                inf\n",
            "Date:                Tue, 17 Sep 2019   Prob (F-statistic):                        0.00\n",
            "Time:                        01:45:02   Log-Likelihood:                             inf\n",
            "No. Observations:                 506   AIC:                                       -inf\n",
            "Df Residuals:                     505   BIC:                                       -inf\n",
            "Df Model:                           1                                                  \n",
            "Covariance Type:            nonrobust                                                  \n",
            "==============================================================================\n",
            "                 coef    std err          t      P>|t|      [0.025      0.975]\n",
            "------------------------------------------------------------------------------\n",
            "cmedv          1.0000          0        inf      0.000       1.000       1.000\n",
            "==============================================================================\n",
            "Omnibus:                     1483.476   Durbin-Watson:                     nan\n",
            "Prob(Omnibus):                  0.000   Jarque-Bera (JB):              189.750\n",
            "Skew:                           0.000   Prob(JB):                     6.26e-42\n",
            "Kurtosis:                       0.000   Cond. No.                         1.00\n",
            "==============================================================================\n",
            "\n",
            "Warnings:\n",
            "[1] Standard Errors assume that the covariance matrix of the errors is correctly specified.\n",
            "                                 OLS Regression Results                                \n",
            "=======================================================================================\n",
            "Dep. Variable:                  cmedv   R-squared (uncentered):                   1.000\n",
            "Model:                            OLS   Adj. R-squared (uncentered):              1.000\n",
            "Method:                 Least Squares   F-statistic:                          2.154e+35\n",
            "Date:                Tue, 17 Sep 2019   Prob (F-statistic):                        0.00\n",
            "Time:                        01:45:02   Log-Likelihood:                          16852.\n",
            "No. Observations:                 506   AIC:                                 -3.370e+04\n",
            "Df Residuals:                     504   BIC:                                 -3.369e+04\n",
            "Df Model:                           2                                                  \n",
            "Covariance Type:            nonrobust                                                  \n",
            "==============================================================================\n",
            "                 coef    std err          t      P>|t|      [0.025      0.975]\n",
            "------------------------------------------------------------------------------\n",
            "cmedv          1.0000   3.46e-18   2.89e+17      0.000       1.000       1.000\n",
            "ptratio     -7.98e-17   4.53e-18    -17.631      0.000   -8.87e-17   -7.09e-17\n",
            "==============================================================================\n",
            "Omnibus:                       96.716   Durbin-Watson:                   0.486\n",
            "Prob(Omnibus):                  0.000   Jarque-Bera (JB):              155.680\n",
            "Skew:                           1.356   Prob(JB):                     1.57e-34\n",
            "Kurtosis:                       2.840   Cond. No.                         4.48\n",
            "==============================================================================\n",
            "\n",
            "Warnings:\n",
            "[1] Standard Errors assume that the covariance matrix of the errors is correctly specified.\n"
          ],
          "name": "stdout"
        },
        {
          "output_type": "stream",
          "text": [
            "/usr/local/lib/python3.6/dist-packages/statsmodels/regression/linear_model.py:1708: RuntimeWarning: divide by zero encountered in double_scalars\n",
            "  return self.mse_model/self.mse_resid\n",
            "/usr/local/lib/python3.6/dist-packages/statsmodels/regression/linear_model.py:867: RuntimeWarning: divide by zero encountered in log\n",
            "  llf = -nobs2*np.log(2*np.pi) - nobs2*np.log(ssr / nobs) - nobs2\n",
            "/usr/local/lib/python3.6/dist-packages/statsmodels/stats/stattools.py:46: RuntimeWarning: invalid value encountered in double_scalars\n",
            "  dw = np.sum(diff_resids**2, axis=axis) / np.sum(resids**2, axis=axis)\n",
            "/usr/local/lib/python3.6/dist-packages/statsmodels/base/model.py:1294: RuntimeWarning: divide by zero encountered in true_divide\n",
            "  return self.params / self.bse\n"
          ],
          "name": "stderr"
        }
      ]
    },
    {
      "cell_type": "code",
      "metadata": {
        "id": "mvmpK5wbsgxk",
        "colab_type": "code",
        "colab": {}
      },
      "source": [
        "def backward(predictors):\n",
        "    \n",
        "    tic = time.time()\n",
        "    \n",
        "    results = []\n",
        "    \n",
        "    for combo in itertools.combinations(predictors, len(predictors)-1):\n",
        "        results.append(processSubset(combo))\n",
        "    \n",
        "    # Wrap everything up in a nice dataframe\n",
        "    models = pd.DataFrame(results)\n",
        "    \n",
        "    # Choose the model with the highest RSS\n",
        "    best_model = models.loc[models['RSS'].argmin()]\n",
        "    \n",
        "    toc = time.time()\n",
        "    print(\"Processed \", models.shape[0], \"models on\", len(predictors)-1, \"predictors in\", (toc-tic), \"seconds.\")\n",
        "    \n",
        "    # Return the best model, along with some other useful information about the model\n",
        "    return best_model"
      ],
      "execution_count": 0,
      "outputs": []
    },
    {
      "cell_type": "code",
      "metadata": {
        "id": "BJOzsEt5spuN",
        "colab_type": "code",
        "outputId": "4dc29300-4c36-4ca0-9694-9b4251df2e0f",
        "colab": {
          "base_uri": "https://localhost:8080/",
          "height": 425
        }
      },
      "source": [
        "models_bwd = pd.DataFrame(columns=[\"RSS\", \"model\"], index = range(1,len(X.columns)))\n",
        "\n",
        "tic = time.time()\n",
        "predictors = X.columns\n",
        "\n",
        "while(len(predictors) > 1):  \n",
        "    models_bwd.loc[len(predictors)-1] = backward(predictors)\n",
        "    predictors = models_bwd.loc[len(predictors)-1][\"model\"].model.exog_names\n",
        "\n",
        "toc = time.time()\n",
        "print(\"Total elapsed time:\", (toc-tic), \"seconds.\")"
      ],
      "execution_count": 29,
      "outputs": [
        {
          "output_type": "stream",
          "text": [
            "/usr/local/lib/python3.6/dist-packages/ipykernel_launcher.py:14: FutureWarning: \n",
            "The current behaviour of 'Series.argmin' is deprecated, use 'idxmin'\n",
            "instead.\n",
            "The behavior of 'argmin' will be corrected to return the positional\n",
            "minimum in the future. For now, use 'series.values.argmin' or\n",
            "'np.argmin(np.array(values))' to get the position of the minimum\n",
            "row.\n",
            "  \n"
          ],
          "name": "stderr"
        },
        {
          "output_type": "stream",
          "text": [
            "Processed  16 models on 15 predictors in 0.0722804069519043 seconds.\n",
            "Processed  15 models on 14 predictors in 0.060704708099365234 seconds.\n",
            "Processed  14 models on 13 predictors in 0.05505514144897461 seconds.\n",
            "Processed  13 models on 12 predictors in 0.0499880313873291 seconds.\n",
            "Processed  12 models on 11 predictors in 0.05563235282897949 seconds.\n",
            "Processed  11 models on 10 predictors in 0.0453948974609375 seconds.\n",
            "Processed  10 models on 9 predictors in 0.0368800163269043 seconds.\n",
            "Processed  9 models on 8 predictors in 0.034314632415771484 seconds.\n",
            "Processed  8 models on 7 predictors in 0.02876114845275879 seconds.\n",
            "Processed  7 models on 6 predictors in 0.02539992332458496 seconds.\n",
            "Processed  6 models on 5 predictors in 0.02201390266418457 seconds.\n",
            "Processed  5 models on 4 predictors in 0.02033209800720215 seconds.\n",
            "Processed  4 models on 3 predictors in 0.014198780059814453 seconds.\n",
            "Processed  3 models on 2 predictors in 0.010810613632202148 seconds.\n",
            "Processed  2 models on 1 predictors in 0.007454395294189453 seconds.\n",
            "Total elapsed time: 0.567650318145752 seconds.\n"
          ],
          "name": "stdout"
        }
      ]
    },
    {
      "cell_type": "code",
      "metadata": {
        "id": "VbXsH7Js0AHS",
        "colab_type": "code",
        "colab": {
          "base_uri": "https://localhost:8080/",
          "height": 986
        },
        "outputId": "ddcbbb3c-2e9c-4f0d-c119-4f49fd49c70a"
      },
      "source": [
        "print(models_bwd.loc[1, \"model\"].summary())\n",
        "print(models_bwd.loc[2, \"model\"].summary())"
      ],
      "execution_count": 30,
      "outputs": [
        {
          "output_type": "stream",
          "text": [
            "                                 OLS Regression Results                                \n",
            "=======================================================================================\n",
            "Dep. Variable:                  cmedv   R-squared (uncentered):                   1.000\n",
            "Model:                            OLS   Adj. R-squared (uncentered):              1.000\n",
            "Method:                 Least Squares   F-statistic:                                inf\n",
            "Date:                Tue, 17 Sep 2019   Prob (F-statistic):                        0.00\n",
            "Time:                        01:45:11   Log-Likelihood:                             inf\n",
            "No. Observations:                 506   AIC:                                       -inf\n",
            "Df Residuals:                     505   BIC:                                       -inf\n",
            "Df Model:                           1                                                  \n",
            "Covariance Type:            nonrobust                                                  \n",
            "==============================================================================\n",
            "                 coef    std err          t      P>|t|      [0.025      0.975]\n",
            "------------------------------------------------------------------------------\n",
            "cmedv          1.0000          0        inf      0.000       1.000       1.000\n",
            "==============================================================================\n",
            "Omnibus:                     1483.476   Durbin-Watson:                     nan\n",
            "Prob(Omnibus):                  0.000   Jarque-Bera (JB):              189.750\n",
            "Skew:                           0.000   Prob(JB):                     6.26e-42\n",
            "Kurtosis:                       0.000   Cond. No.                         1.00\n",
            "==============================================================================\n",
            "\n",
            "Warnings:\n",
            "[1] Standard Errors assume that the covariance matrix of the errors is correctly specified.\n",
            "                                 OLS Regression Results                                \n",
            "=======================================================================================\n",
            "Dep. Variable:                  cmedv   R-squared (uncentered):                   1.000\n",
            "Model:                            OLS   Adj. R-squared (uncentered):              1.000\n",
            "Method:                 Least Squares   F-statistic:                          5.070e+33\n",
            "Date:                Tue, 17 Sep 2019   Prob (F-statistic):                        0.00\n",
            "Time:                        01:45:11   Log-Likelihood:                          15903.\n",
            "No. Observations:                 506   AIC:                                 -3.180e+04\n",
            "Df Residuals:                     504   BIC:                                 -3.179e+04\n",
            "Df Model:                           2                                                  \n",
            "Covariance Type:            nonrobust                                                  \n",
            "==============================================================================\n",
            "                 coef    std err          t      P>|t|      [0.025      0.975]\n",
            "------------------------------------------------------------------------------\n",
            "cmedv          1.0000   1.02e-17   9.81e+16      0.000       1.000       1.000\n",
            "crim        2.559e-17   2.66e-17      0.962      0.336   -2.66e-17    7.78e-17\n",
            "==============================================================================\n",
            "Omnibus:                      211.861   Durbin-Watson:                   0.192\n",
            "Prob(Omnibus):                  0.000   Jarque-Bera (JB):              770.884\n",
            "Skew:                          -1.957   Prob(JB):                    4.02e-168\n",
            "Kurtosis:                       7.609   Cond. No.                         2.70\n",
            "==============================================================================\n",
            "\n",
            "Warnings:\n",
            "[1] Standard Errors assume that the covariance matrix of the errors is correctly specified.\n"
          ],
          "name": "stdout"
        },
        {
          "output_type": "stream",
          "text": [
            "/usr/local/lib/python3.6/dist-packages/statsmodels/regression/linear_model.py:1708: RuntimeWarning: divide by zero encountered in double_scalars\n",
            "  return self.mse_model/self.mse_resid\n",
            "/usr/local/lib/python3.6/dist-packages/statsmodels/regression/linear_model.py:867: RuntimeWarning: divide by zero encountered in log\n",
            "  llf = -nobs2*np.log(2*np.pi) - nobs2*np.log(ssr / nobs) - nobs2\n",
            "/usr/local/lib/python3.6/dist-packages/statsmodels/stats/stattools.py:46: RuntimeWarning: invalid value encountered in double_scalars\n",
            "  dw = np.sum(diff_resids**2, axis=axis) / np.sum(resids**2, axis=axis)\n",
            "/usr/local/lib/python3.6/dist-packages/statsmodels/base/model.py:1294: RuntimeWarning: divide by zero encountered in true_divide\n",
            "  return self.params / self.bse\n"
          ],
          "name": "stderr"
        }
      ]
    },
    {
      "cell_type": "code",
      "metadata": {
        "id": "t77SBwIhssH6",
        "colab_type": "code",
        "outputId": "b93bfbbc-c5e9-4a55-ef69-45217878cac2",
        "colab": {
          "base_uri": "https://localhost:8080/",
          "height": 935
        }
      },
      "source": [
        "print(\"------------\")\n",
        "print(\"Best Subset:\")\n",
        "print(\"------------\")\n",
        "print(models_best.loc[14, \"model\"].params)\n",
        "\n",
        "print(\"-----------------\")\n",
        "print(\"Foward Selection:\")\n",
        "print(\"-----------------\")\n",
        "print(models_fwd.loc[14, \"model\"].params)\n",
        "\n",
        "print(\"-------------------\")\n",
        "print(\"Backward Selection:\")\n",
        "print(\"-------------------\")\n",
        "print(models_bwd.loc[14, \"model\"].params)"
      ],
      "execution_count": 31,
      "outputs": [
        {
          "output_type": "stream",
          "text": [
            "------------\n",
            "Best Subset:\n",
            "------------\n",
            "lon      9.436896e-15\n",
            "lat      1.565414e-14\n",
            "cmedv    1.000000e+00\n",
            "crim     6.006480e-17\n",
            "zn      -1.318390e-16\n",
            "indus   -2.515349e-17\n",
            "chas     5.273559e-15\n",
            "nox      2.074729e-14\n",
            "rm      -1.026956e-15\n",
            "age     -5.464379e-17\n",
            "dis     -9.714451e-16\n",
            "rad      5.308254e-16\n",
            "b        3.523657e-17\n",
            "lstat   -3.122502e-16\n",
            "dtype: float64\n",
            "-----------------\n",
            "Foward Selection:\n",
            "-----------------\n",
            "cmedv      1.000000e+00\n",
            "ptratio    2.636780e-16\n",
            "crim      -2.883978e-16\n",
            "dis        3.191891e-16\n",
            "zn        -3.009745e-16\n",
            "indus      1.999269e-16\n",
            "nox       -7.993606e-15\n",
            "age       -5.702903e-16\n",
            "rad        1.561251e-16\n",
            "lstat      9.020562e-17\n",
            "tax       -9.584347e-17\n",
            "rm         1.457168e-15\n",
            "chas      -1.526557e-15\n",
            "lat        5.655199e-16\n",
            "dtype: float64\n",
            "-------------------\n",
            "Backward Selection:\n",
            "-------------------\n",
            "lon       -7.285839e-16\n",
            "cmedv      1.000000e+00\n",
            "crim      -1.354819e-15\n",
            "zn         1.058181e-16\n",
            "chas       6.966649e-15\n",
            "nox       -1.976197e-14\n",
            "rm         3.885781e-16\n",
            "age       -1.474515e-17\n",
            "dis       -1.415534e-15\n",
            "rad        9.228729e-16\n",
            "tax       -4.466913e-17\n",
            "ptratio   -2.220446e-16\n",
            "b         -1.494505e-16\n",
            "lstat      6.245005e-16\n",
            "dtype: float64\n"
          ],
          "name": "stdout"
        }
      ]
    }
  ]
}